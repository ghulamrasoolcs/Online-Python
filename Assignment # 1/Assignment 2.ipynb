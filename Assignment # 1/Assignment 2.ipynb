{
 "cells": [
  {
   "cell_type": "code",
   "execution_count": 1,
   "id": "723764b0",
   "metadata": {},
   "outputs": [
    {
     "name": "stdout",
     "output_type": "stream",
     "text": [
      "Enter English Marks: 45\n",
      "Enter Islamiyat Marks: 65\n",
      "Enter Maths Marks: 76\n",
      "B\n"
     ]
    }
   ],
   "source": [
    "Eng_Marks = int(input(\"Enter English Marks: \"));\n",
    "Isl_Marks =  int(input(\"Enter Islamiyat Marks: \"));\n",
    "Maths_Marks =  int(input(\"Enter Maths Marks: \"));\n",
    "Obt_Marks = Eng_Marks + Isl_Marks + Maths_Marks;\n",
    "Total_Marks = 300;\n",
    "percent = (Obt_Marks /Total_Marks)* 100;\n",
    "if percent > 90 and percent < 100:\n",
    "    print(\"A+\");\n",
    "elif  percent > 80 and percent < 91:\n",
    "    print(\"A\");\n",
    "elif  percent > 70 and percent < 81:\n",
    "    print(\"B+\");\n",
    "elif  percent > 60 and percent < 71:\n",
    "    print(\"B\");\n",
    "elif  percent > 50 and percent < 61:\n",
    "    print(\"C+\");\n",
    "elif  percent > 40  and percent < 51:\n",
    "    print(\"C\");\n",
    "elif  percent > 32 and percent < 41:\n",
    "    print(\"D\");\n",
    "elif  percent>= 0 and percent < 33:\n",
    "    print(\"Fail\");\n",
    "else:\n",
    "    print(\"Invalid Marks\");"
   ]
  },
  {
   "cell_type": "code",
   "execution_count": 2,
   "id": "73551874",
   "metadata": {},
   "outputs": [
    {
     "name": "stdout",
     "output_type": "stream",
     "text": [
      "81\n"
     ]
    }
   ],
   "source": [
    "x= 3**4\n",
    "print(x);"
   ]
  },
  {
   "cell_type": "code",
   "execution_count": 3,
   "id": "3fce0fa7",
   "metadata": {},
   "outputs": [
    {
     "name": "stdout",
     "output_type": "stream",
     "text": [
      "True\n"
     ]
    }
   ],
   "source": [
    "x= 10;\n",
    "y= 12;\n",
    "a= 30;\n",
    "b= 8;\n",
    "if x+y== a-b:\n",
    "    print(True);\n",
    "else:\n",
    "    print(False);"
   ]
  },
  {
   "cell_type": "code",
   "execution_count": 4,
   "id": "6b49e1cc",
   "metadata": {},
   "outputs": [
    {
     "name": "stdout",
     "output_type": "stream",
     "text": [
      "Enter Age: 18\n",
      "Enter Gendermale\n",
      "Do not Allow\n"
     ]
    }
   ],
   "source": [
    "Age = int(input(\"Enter Age: \"));\n",
    "Gender= input(\"Enter Gender :\");\n",
    "if Age> 18 and Gender== \"male\":\n",
    "    print(\"Allow\");\n",
    "else:\n",
    "    print(\"Do not Allow\");"
   ]
  },
  {
   "cell_type": "code",
   "execution_count": 5,
   "id": "ef137b5b",
   "metadata": {},
   "outputs": [
    {
     "name": "stdout",
     "output_type": "stream",
     "text": [
      "Enter Age: 19\n",
      "Enter Gender: male\n",
      "Allow\n"
     ]
    }
   ],
   "source": [
    "Age = int(input(\"Enter Age: \"));\n",
    "Gender= input(\"Enter Gender: \");\n",
    "if Age>=18 and Gender== \"male\":\n",
    "    print(\"Allow\");\n",
    "else:\n",
    "    print(\"Do not Allow\");"
   ]
  },
  {
   "cell_type": "code",
   "execution_count": null,
   "id": "449c0cd6",
   "metadata": {},
   "outputs": [],
   "source": []
  }
 ],
 "metadata": {
  "kernelspec": {
   "display_name": "Python 3",
   "language": "python",
   "name": "python3"
  },
  "language_info": {
   "codemirror_mode": {
    "name": "ipython",
    "version": 3
   },
   "file_extension": ".py",
   "mimetype": "text/x-python",
   "name": "python",
   "nbconvert_exporter": "python",
   "pygments_lexer": "ipython3",
   "version": "3.8.8"
  }
 },
 "nbformat": 4,
 "nbformat_minor": 5
}
