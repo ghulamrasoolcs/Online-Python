{
 "cells": [
  {
   "cell_type": "code",
   "execution_count": 23,
   "id": "8bfb889e",
   "metadata": {},
   "outputs": [
    {
     "name": "stdout",
     "output_type": "stream",
     "text": [
      "Fail\n"
     ]
    }
   ],
   "source": [
    "percent = 1;\n",
    "if percent > 90 and percent < 100:\n",
    "    print(\"A+\");\n",
    "elif  percent > 80 and percent < 91:\n",
    "    print(\"A\");\n",
    "elif  percent > 70 and percent < 81:\n",
    "    print(\"B+\");\n",
    "elif  percent > 60 and percent < 71:\n",
    "    print(\"B\");\n",
    "elif  percent > 50 and percent < 61:\n",
    "    print(\"C+\");\n",
    "elif  percent > 40  and percent < 51:\n",
    "    print(\"C\");\n",
    "elif  percent > 32 and percent < 41:\n",
    "    print(\"D\");\n",
    "elif  percent>= 0 and percent < 33:\n",
    "    print(\"Fail\");\n",
    "else:\n",
    "    print(\"Invalid Marks\");"
   ]
  },
  {
   "cell_type": "code",
   "execution_count": null,
   "id": "3f663ba5",
   "metadata": {},
   "outputs": [],
   "source": []
  }
 ],
 "metadata": {
  "kernelspec": {
   "display_name": "Python 3",
   "language": "python",
   "name": "python3"
  },
  "language_info": {
   "codemirror_mode": {
    "name": "ipython",
    "version": 3
   },
   "file_extension": ".py",
   "mimetype": "text/x-python",
   "name": "python",
   "nbconvert_exporter": "python",
   "pygments_lexer": "ipython3",
   "version": "3.8.8"
  }
 },
 "nbformat": 4,
 "nbformat_minor": 5
}
